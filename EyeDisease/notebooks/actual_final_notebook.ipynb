{
 "cells": [
  {
   "cell_type": "code",
   "execution_count": null,
   "id": "313b0642",
   "metadata": {},
   "outputs": [],
   "source": [
    "import re\n",
    "import pandas as pd\n",
    "import os\n",
    "\n",
    "def extract_eye_info(filename):\n",
    "    \"\"\"Extract patient ID and eye side from filename\"\"\"\n",
    "    # Handle different naming patterns\n",
    "    if '-' in filename:\n",
    "        base, side = filename.rsplit('-', 1)\n",
    "        side = side.split('.')[0].lower()\n",
    "        return base, side\n",
    "    elif '_' in filename:\n",
    "        base, side = filename.rsplit('_', 1)\n",
    "        side = side.split('.')[0].lower()\n",
    "        return base, side\n",
    "    else:\n",
    "        # Extract numeric patient ID if exists\n",
    "        match = re.search(r'(\\d+)', filename)\n",
    "        patient_id = match.group(1) if match else filename.split('.')[0]\n",
    "        return patient_id, 'unknown'\n",
    "\n",
    "# Create metadata dataframe\n",
    "eye_metadata = []\n",
    "for class_name in os.listdir(dataset_directory):\n",
    "    class_path = os.path.join(dataset_directory, class_name)\n",
    "    if not os.path.isdir(class_path):\n",
    "        continue\n",
    "        \n",
    "    for img_name in os.listdir(class_path):\n",
    "        img_path = os.path.join(class_path, img_name)\n",
    "        patient_id, eye_side = extract_eye_info(img_name)\n",
    "        \n",
    "        eye_metadata.append({\n",
    "            'patient_id': patient_id,\n",
    "            'eye_side': eye_side,\n",
    "            'class': class_name,\n",
    "            'path': img_path\n",
    "        })\n",
    "\n",
    "df_eyes = pd.DataFrame(eye_metadata)"
   ]
  }
 ],
 "metadata": {
  "kernelspec": {
   "display_name": ".venv",
   "language": "python",
   "name": "python3"
  },
  "language_info": {
   "name": "python",
   "version": "3.10.11"
  }
 },
 "nbformat": 4,
 "nbformat_minor": 5
}
